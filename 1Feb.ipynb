{
 "cells": [
  {
   "cell_type": "code",
   "execution_count": 1,
   "id": "fecb7a0a-e282-45d6-aa5f-a4f5570ebec6",
   "metadata": {},
   "outputs": [],
   "source": [
    "d= {1,5}\n"
   ]
  },
  {
   "cell_type": "code",
   "execution_count": 2,
   "id": "94863495-455e-437b-b325-ca0cc4fe4be3",
   "metadata": {},
   "outputs": [
    {
     "data": {
      "text/plain": [
       "set"
      ]
     },
     "execution_count": 2,
     "metadata": {},
     "output_type": "execute_result"
    }
   ],
   "source": [
    "type(d)"
   ]
  },
  {
   "cell_type": "code",
   "execution_count": 3,
   "id": "afd9be1f-1fe2-405a-99b3-89361abe6cb3",
   "metadata": {},
   "outputs": [],
   "source": [
    "d1 = {'key' : \"sudh\"}"
   ]
  },
  {
   "cell_type": "code",
   "execution_count": 4,
   "id": "c54d284f-0a8f-4dbc-ba5b-5abd7eb6617e",
   "metadata": {},
   "outputs": [
    {
     "data": {
      "text/plain": [
       "{'key': 'sudh'}"
      ]
     },
     "execution_count": 4,
     "metadata": {},
     "output_type": "execute_result"
    }
   ],
   "source": [
    "d1"
   ]
  },
  {
   "cell_type": "code",
   "execution_count": 5,
   "id": "615b9e7e-1feb-454c-a1ec-40934845949c",
   "metadata": {},
   "outputs": [],
   "source": [
    "d1 = {25:\"ajay\"}"
   ]
  },
  {
   "cell_type": "code",
   "execution_count": 7,
   "id": "c29dd2b7-2fd0-4224-81d5-a48e49f3142c",
   "metadata": {},
   "outputs": [
    {
     "data": {
      "text/plain": [
       "'ajay'"
      ]
     },
     "execution_count": 7,
     "metadata": {},
     "output_type": "execute_result"
    }
   ],
   "source": [
    "d1[25]"
   ]
  },
  {
   "cell_type": "code",
   "execution_count": 59,
   "id": "d926eed7-b97e-44de-9be8-b076cbedd6e0",
   "metadata": {},
   "outputs": [],
   "source": [
    "d1 =  {'name':\"ajay\" , 'name':'raj'}"
   ]
  },
  {
   "cell_type": "code",
   "execution_count": 11,
   "id": "84973019-ba79-4812-a9f0-ef4e7a1b9af9",
   "metadata": {},
   "outputs": [
    {
     "data": {
      "text/plain": [
       "{'name': 'raj'}"
      ]
     },
     "execution_count": 11,
     "metadata": {},
     "output_type": "execute_result"
    }
   ],
   "source": [
    "d1"
   ]
  },
  {
   "cell_type": "code",
   "execution_count": 12,
   "id": "544b8327-d291-40d5-92dc-6e37ed089dca",
   "metadata": {},
   "outputs": [],
   "source": [
    "d6 = {'number' :[2,5,4,6,8] , \"assign\":(1,2,3)}"
   ]
  },
  {
   "cell_type": "code",
   "execution_count": 13,
   "id": "0818842f-09a3-42b9-951e-be56d8ca18a3",
   "metadata": {},
   "outputs": [
    {
     "data": {
      "text/plain": [
       "{'number': [2, 5, 4, 6, 8], 'assign': (1, 2, 3)}"
      ]
     },
     "execution_count": 13,
     "metadata": {},
     "output_type": "execute_result"
    }
   ],
   "source": [
    "d6"
   ]
  },
  {
   "cell_type": "code",
   "execution_count": 16,
   "id": "05fd7570-a8ca-44ce-b5f7-76c27fa450c3",
   "metadata": {},
   "outputs": [
    {
     "data": {
      "text/plain": [
       "'set tuples or list all can be taken as \\ninput'"
      ]
     },
     "execution_count": 16,
     "metadata": {},
     "output_type": "execute_result"
    }
   ],
   "source": [
    "\"\"\"set tuples or list all can be taken as \n",
    "input"
   ]
  },
  {
   "cell_type": "code",
   "execution_count": 20,
   "id": "0df92438-7138-4317-bcdb-2d3e5a80932d",
   "metadata": {},
   "outputs": [],
   "source": [
    "d6['kiitu'] = ['nickanme' , \"home\"]"
   ]
  },
  {
   "cell_type": "code",
   "execution_count": 21,
   "id": "40fd24bb-1657-4202-b4a5-bc18835f60a2",
   "metadata": {},
   "outputs": [
    {
     "data": {
      "text/plain": [
       "{'number': [2, 5, 4, 6, 8], 'assign': (1, 2, 3), 'kiitu': ['nickanme', 'home']}"
      ]
     },
     "execution_count": 21,
     "metadata": {},
     "output_type": "execute_result"
    }
   ],
   "source": [
    "d6"
   ]
  },
  {
   "cell_type": "code",
   "execution_count": 23,
   "id": "c02349dc-2fa3-49ac-a7d6-d5adcf99e504",
   "metadata": {},
   "outputs": [
    {
     "data": {
      "text/plain": [
       "dict_keys(['number', 'assign', 'kiitu'])"
      ]
     },
     "execution_count": 23,
     "metadata": {},
     "output_type": "execute_result"
    }
   ],
   "source": [
    "d6.keys()"
   ]
  },
  {
   "cell_type": "code",
   "execution_count": 30,
   "id": "eaeadf90-2dd7-4642-8e3f-87807f86939c",
   "metadata": {},
   "outputs": [
    {
     "data": {
      "text/plain": [
       "{'assign': (1, 2, 3), 'kiitu': ['nickanme', 'home']}"
      ]
     },
     "execution_count": 30,
     "metadata": {},
     "output_type": "execute_result"
    }
   ],
   "source": [
    "d6"
   ]
  },
  {
   "cell_type": "code",
   "execution_count": 31,
   "id": "deac5d9a-ab45-41b9-8a1f-b52d925859bf",
   "metadata": {},
   "outputs": [],
   "source": [
    "del d6['assign']"
   ]
  },
  {
   "cell_type": "code",
   "execution_count": 32,
   "id": "bb9ba5f2-a42f-4b17-be29-654293292051",
   "metadata": {},
   "outputs": [
    {
     "data": {
      "text/plain": [
       "{'kiitu': ['nickanme', 'home']}"
      ]
     },
     "execution_count": 32,
     "metadata": {},
     "output_type": "execute_result"
    }
   ],
   "source": [
    "d6"
   ]
  },
  {
   "cell_type": "code",
   "execution_count": 34,
   "id": "b9a16f36-759b-4f1c-8d48-e05d1e5594bc",
   "metadata": {},
   "outputs": [
    {
     "data": {
      "text/plain": [
       "dict_values([['nickanme', 'home']])"
      ]
     },
     "execution_count": 34,
     "metadata": {},
     "output_type": "execute_result"
    }
   ],
   "source": [
    "d6.values()"
   ]
  },
  {
   "cell_type": "code",
   "execution_count": 36,
   "id": "9b486720-db1e-43dd-879d-ca7a5e8d0843",
   "metadata": {},
   "outputs": [
    {
     "data": {
      "text/plain": [
       "[('kiitu', ['nickanme', 'home'])]"
      ]
     },
     "execution_count": 36,
     "metadata": {},
     "output_type": "execute_result"
    }
   ],
   "source": [
    "list(d6.items())"
   ]
  },
  {
   "cell_type": "code",
   "execution_count": 37,
   "id": "be3bcf74-8e16-4692-a568-7711c506c88f",
   "metadata": {},
   "outputs": [
    {
     "data": {
      "text/plain": [
       "{'kiitu': ['nickanme', 'home']}"
      ]
     },
     "execution_count": 37,
     "metadata": {},
     "output_type": "execute_result"
    }
   ],
   "source": [
    "d6"
   ]
  },
  {
   "cell_type": "code",
   "execution_count": 45,
   "id": "d2bd500a-6b26-4d86-9731-8d6501698d11",
   "metadata": {},
   "outputs": [
    {
     "data": {
      "text/plain": [
       "{'kiitu': ['nickanme', 'home']}"
      ]
     },
     "execution_count": 45,
     "metadata": {},
     "output_type": "execute_result"
    }
   ],
   "source": [
    "d6"
   ]
  },
  {
   "cell_type": "code",
   "execution_count": 49,
   "id": "d03b3f9b-50dc-4d13-a691-e0869ebe07d7",
   "metadata": {},
   "outputs": [
    {
     "data": {
      "text/plain": [
       "{'kiitu': ['nickanme', 'home']}"
      ]
     },
     "execution_count": 49,
     "metadata": {},
     "output_type": "execute_result"
    }
   ],
   "source": [
    "d6"
   ]
  },
  {
   "cell_type": "code",
   "execution_count": 51,
   "id": "a72b17be-5fdc-4d0e-9643-75ada2b393bc",
   "metadata": {},
   "outputs": [
    {
     "data": {
      "text/plain": [
       "dict_keys(['kiitu'])"
      ]
     },
     "execution_count": 51,
     "metadata": {},
     "output_type": "execute_result"
    }
   ],
   "source": [
    "d6.keys()"
   ]
  },
  {
   "cell_type": "code",
   "execution_count": 53,
   "id": "554c3943-b603-496e-973c-52f724a30e8e",
   "metadata": {},
   "outputs": [],
   "source": [
    "d6['ajay'] = 15"
   ]
  },
  {
   "cell_type": "code",
   "execution_count": 54,
   "id": "47b3c796-76a4-4de6-af9c-3953e4de7013",
   "metadata": {},
   "outputs": [
    {
     "data": {
      "text/plain": [
       "{'kiitu': ['nickanme', 'home'], 'ajay': 15}"
      ]
     },
     "execution_count": 54,
     "metadata": {},
     "output_type": "execute_result"
    }
   ],
   "source": [
    "d6"
   ]
  },
  {
   "cell_type": "code",
   "execution_count": 57,
   "id": "0d075aa4-4a68-4c95-b25f-5d73ed575762",
   "metadata": {},
   "outputs": [],
   "source": [
    "d6['raj'] = 45"
   ]
  },
  {
   "cell_type": "code",
   "execution_count": 60,
   "id": "1cd28e88-67cb-4df8-ab75-9b08168f6396",
   "metadata": {},
   "outputs": [
    {
     "data": {
      "text/plain": [
       "45"
      ]
     },
     "execution_count": 60,
     "metadata": {},
     "output_type": "execute_result"
    }
   ],
   "source": [
    "d6.pop('raj')"
   ]
  },
  {
   "cell_type": "code",
   "execution_count": 62,
   "id": "7e0d5cab-5f55-48fc-a28e-ed95342d8986",
   "metadata": {},
   "outputs": [
    {
     "name": "stdout",
     "output_type": "stream",
     "text": [
      "finally\n"
     ]
    }
   ],
   "source": [
    "marks =  55\n",
    "if marks > 80:\n",
    "    print(\"yes\")\n",
    "elif marks == 555:\n",
    "    print(\"second yes\")\n",
    "else:\n",
    "    print(\"finally\")"
   ]
  },
  {
   "cell_type": "code",
   "execution_count": 65,
   "id": "276602ae-d2cd-4f1c-b184-2caba19fd636",
   "metadata": {},
   "outputs": [
    {
     "name": "stdin",
     "output_type": "stream",
     "text": [
      "marks 44\n"
     ]
    }
   ],
   "source": [
    "marks = int(input(\"marks\"))"
   ]
  },
  {
   "cell_type": "code",
   "execution_count": 67,
   "id": "313a6ca4-66db-427a-a267-fdc3e39640a1",
   "metadata": {},
   "outputs": [
    {
     "name": "stdout",
     "output_type": "stream",
     "text": [
      "yes\n"
     ]
    }
   ],
   "source": [
    "if marks>55:\n",
    "    print(\"no\")\n",
    "elif marks==44:\n",
    "    print(\"yes\")"
   ]
  },
  {
   "cell_type": "code",
   "execution_count": 74,
   "id": "e9aee624-be51-46ca-b697-77e872be2472",
   "metadata": {},
   "outputs": [],
   "source": [
    "l = [11,21,3,4,5,6,7,8,9,10]"
   ]
  },
  {
   "cell_type": "code",
   "execution_count": 77,
   "id": "517ac5b8-027b-46df-85b0-b7dcefbbc1c3",
   "metadata": {},
   "outputs": [],
   "source": [
    "z = 0\n",
    "for i in l : \n",
    "    l[z]+=1\n",
    "    z = z+1\n",
    "   "
   ]
  },
  {
   "cell_type": "code",
   "execution_count": 78,
   "id": "bb649ed6-43a7-421f-8d37-9577d642a8fb",
   "metadata": {},
   "outputs": [
    {
     "data": {
      "text/plain": [
       "[12, 22, 4, 5, 6, 7, 8, 9, 10, 11]"
      ]
     },
     "execution_count": 78,
     "metadata": {},
     "output_type": "execute_result"
    }
   ],
   "source": [
    "l"
   ]
  },
  {
   "cell_type": "code",
   "execution_count": 80,
   "id": "5dedfe71-9fe1-4bca-afe1-4ce0780b36ec",
   "metadata": {},
   "outputs": [],
   "source": [
    "l = [\"ajay\" , \"raj\"]"
   ]
  },
  {
   "cell_type": "code",
   "execution_count": 81,
   "id": "8cef570b-a88e-4379-a3fe-dbe650af581d",
   "metadata": {},
   "outputs": [],
   "source": [
    "l1=[]\n",
    "for i  in l:\n",
    "    l1.append(i.upper())  \n",
    "    "
   ]
  },
  {
   "cell_type": "code",
   "execution_count": 82,
   "id": "438163eb-6482-4d92-b353-76f8f9a78fee",
   "metadata": {},
   "outputs": [
    {
     "data": {
      "text/plain": [
       "['AJAY', 'RAJ']"
      ]
     },
     "execution_count": 82,
     "metadata": {},
     "output_type": "execute_result"
    }
   ],
   "source": [
    "l1"
   ]
  },
  {
   "cell_type": "code",
   "execution_count": 85,
   "id": "aa76a417-1a3e-424a-987c-d7080f9adbed",
   "metadata": {},
   "outputs": [],
   "source": [
    "l1.append(14)"
   ]
  },
  {
   "cell_type": "code",
   "execution_count": 86,
   "id": "fc9e3aca-4b02-49af-8058-26dbb1e09a4b",
   "metadata": {},
   "outputs": [
    {
     "data": {
      "text/plain": [
       "['AJAY', 'RAJ', 14, 14]"
      ]
     },
     "execution_count": 86,
     "metadata": {},
     "output_type": "execute_result"
    }
   ],
   "source": [
    "l1"
   ]
  },
  {
   "cell_type": "code",
   "execution_count": 93,
   "id": "1f62501e-c4c6-4117-b8da-b2ec8810bacc",
   "metadata": {},
   "outputs": [],
   "source": [
    "l2 = [] \n",
    "l3 = []\n",
    "for i in l1:\n",
    "    if type(i)=='str':\n",
    "        l2.append(i)\n",
    "    else:\n",
    "        l3.append(i)"
   ]
  },
  {
   "cell_type": "code",
   "execution_count": 94,
   "id": "412dc8fc-e335-433c-b87f-04958a59e4e8",
   "metadata": {},
   "outputs": [
    {
     "data": {
      "text/plain": [
       "[]"
      ]
     },
     "execution_count": 94,
     "metadata": {},
     "output_type": "execute_result"
    }
   ],
   "source": [
    "l2"
   ]
  },
  {
   "cell_type": "code",
   "execution_count": 95,
   "id": "75c09958-5603-4ed1-9a10-37b1cdbc5d86",
   "metadata": {},
   "outputs": [
    {
     "data": {
      "text/plain": [
       "['AJAY', 'RAJ', 14, 14]"
      ]
     },
     "execution_count": 95,
     "metadata": {},
     "output_type": "execute_result"
    }
   ],
   "source": [
    "l3"
   ]
  },
  {
   "cell_type": "code",
   "execution_count": 96,
   "id": "fcfaabcd-db47-466c-b149-1546652b0fe9",
   "metadata": {},
   "outputs": [
    {
     "data": {
      "text/plain": [
       "False"
      ]
     },
     "execution_count": 96,
     "metadata": {},
     "output_type": "execute_result"
    }
   ],
   "source": [
    "str == 'str'"
   ]
  },
  {
   "cell_type": "code",
   "execution_count": 97,
   "id": "67ac4c8c-b0d5-4f47-b132-b8d51f008b2d",
   "metadata": {},
   "outputs": [
    {
     "data": {
      "text/plain": [
       "type"
      ]
     },
     "execution_count": 97,
     "metadata": {},
     "output_type": "execute_result"
    }
   ],
   "source": [
    "type(str)"
   ]
  },
  {
   "cell_type": "code",
   "execution_count": 98,
   "id": "a59ab32a-bc16-4b70-bebd-670a66fc6c78",
   "metadata": {},
   "outputs": [
    {
     "data": {
      "text/plain": [
       "str"
      ]
     },
     "execution_count": 98,
     "metadata": {},
     "output_type": "execute_result"
    }
   ],
   "source": [
    "type('str')"
   ]
  },
  {
   "cell_type": "code",
   "execution_count": null,
   "id": "32539207-114a-4743-997c-d9343054eff2",
   "metadata": {},
   "outputs": [],
   "source": []
  }
 ],
 "metadata": {
  "kernelspec": {
   "display_name": "Python 3 (ipykernel)",
   "language": "python",
   "name": "python3"
  },
  "language_info": {
   "codemirror_mode": {
    "name": "ipython",
    "version": 3
   },
   "file_extension": ".py",
   "mimetype": "text/x-python",
   "name": "python",
   "nbconvert_exporter": "python",
   "pygments_lexer": "ipython3",
   "version": "3.10.8"
  }
 },
 "nbformat": 4,
 "nbformat_minor": 5
}
